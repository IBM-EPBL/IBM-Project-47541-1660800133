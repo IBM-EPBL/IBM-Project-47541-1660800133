{
  "cells": [
    {
      "cell_type": "markdown",
      "id": "f16edf3e",
      "metadata": {
        "id": "f16edf3e"
      },
      "source": [
        "\n",
        "# Real-Time Communication System Powered By AI For Specially Abled\n"
      ]
    },
    {
      "cell_type": "markdown",
      "id": "ef959492",
      "metadata": {
        "id": "ef959492"
      },
      "source": [
        "# TEAM ID - 2022TMID52086"
      ]
    },
    {
      "cell_type": "markdown",
      "id": "16ac2202",
      "metadata": {
        "id": "16ac2202"
      },
      "source": [
        "Test the Model\n",
        "\n",
        "Import The Packages And Load The Saved Model"
      ]
    },
    {
      "cell_type": "code",
      "execution_count": null,
      "id": "00e75223",
      "metadata": {
        "id": "00e75223"
      },
      "outputs": [],
      "source": [
        "from keras.models import load_model\n",
        "import numpy as np\n",
        "import h5py\n",
        "import cv2"
      ]
    },
    {
      "cell_type": "code",
      "execution_count": null,
      "id": "7d1b83f0",
      "metadata": {
        "id": "7d1b83f0"
      },
      "outputs": [],
      "source": [
        "from tensorflow.keras.models import load_model\n",
        "from tensorflow.keras.preprocessing import image \n",
        "import numpy as np"
      ]
    },
    {
      "cell_type": "code",
      "execution_count": null,
      "id": "ae162dd3",
      "metadata": {
        "id": "ae162dd3"
      },
      "outputs": [],
      "source": [
        "model = load_model(\"C:/Users/rajes/Downloads/signlanguage-new.h5\")"
      ]
    },
    {
      "cell_type": "markdown",
      "id": "f1d0a47e",
      "metadata": {
        "id": "f1d0a47e"
      },
      "source": [
        "Load The Test Image, Pre-Process It And Predict"
      ]
    },
    {
      "cell_type": "code",
      "execution_count": null,
      "id": "d0d9f38d",
      "metadata": {
        "id": "d0d9f38d",
        "outputId": "418ba67d-3bd6-4c3b-ca86-9adbb8e3c542"
      },
      "outputs": [
        {
          "data": {
            "image/png": "[encoded data removed]",
            "text/plain": [
              "<PIL.Image.Image image mode=RGB size=64x64 at 0x20F3E875E80>"
            ]
          },
          "execution_count": 56,
          "metadata": {},
          "output_type": "execute_result"
        }
      ],
      "source": [
        "img =image.load_img(r\"C:\\Users\\rajes\\Desktop\\Dataset\\test_set\\A\\8.png\",target_size = (64,64,1))\n",
        "img"
      ]
    },
    {
      "cell_type": "code",
      "execution_count": null,
      "id": "5485dbb5",
      "metadata": {
        "id": "5485dbb5"
      },
      "outputs": [],
      "source": [
        "from skimage.transform import resize\n",
        "def detect(frame):\n",
        "    img=image.img_to_array(frame)\n",
        "    img = resize(img,(64,64,1))\n",
        "    img = np.expand_dims(img,axis=0)\n",
        "    pred=np.argmax(model.predict(img))\n",
        "    op=['A','B','C','D','E','F','G','H','I']\n",
        "    print(\"THE PREDICTED LETTER IS \",op[pred])"
      ]
    },
    {
      "cell_type": "code",
      "execution_count": null,
      "id": "906aecbf",
      "metadata": {
        "id": "906aecbf"
      },
      "outputs": [],
      "source": [
        "from skimage.transform import resize\n",
        "def detect(frame):\n",
        "    img=resize(frame,(64,64,1))\n",
        "    img=np.expand_dims(img,axis=0)\n",
        "    if(np.max(img)>1):\n",
        "        img=img/255.0\n",
        "        prediction=model.predict(img)\n",
        "        print(prediction)\n",
        "        prediction=model.predict_classes(img)\n",
        "        print(prediction)"
      ]
    },
    {
      "cell_type": "code",
      "execution_count": null,
      "id": "f3576be7",
      "metadata": {
        "id": "f3576be7"
      },
      "outputs": [],
      "source": [
        "frame=cv2.imread(r\"C:\\Users\\rajes\\Desktop\\Dataset\\test_set\\A\\8.png\")\n",
        "data=detect(frame)"
      ]
    },
    {
      "cell_type": "code",
      "execution_count": null,
      "id": "b410eca1",
      "metadata": {
        "id": "b410eca1",
        "outputId": "42ffaa1f-aaec-46b1-80a5-7481930da0cf"
      },
      "outputs": [
        {
          "data": {
            "text/plain": [
              "PIL.Image.Image"
            ]
          },
          "execution_count": 60,
          "metadata": {},
          "output_type": "execute_result"
        }
      ],
      "source": [
        "type(img)"
      ]
    },
    {
      "cell_type": "code",
      "execution_count": null,
      "id": "c5457d6b",
      "metadata": {
        "id": "c5457d6b",
        "outputId": "5091287a-e744-45cd-923a-8f2dd9ee5863"
      },
      "outputs": [
        {
          "data": {
            "text/plain": [
              "array([[[0., 0., 0.],\n",
              "        [0., 0., 0.],\n",
              "        [0., 0., 0.],\n",
              "        ...,\n",
              "        [0., 0., 0.],\n",
              "        [0., 0., 0.],\n",
              "        [0., 0., 0.]],\n",
              "\n",
              "       [[0., 0., 0.],\n",
              "        [0., 0., 0.],\n",
              "        [0., 0., 0.],\n",
              "        ...,\n",
              "        [0., 0., 0.],\n",
              "        [0., 0., 0.],\n",
              "        [0., 0., 0.]],\n",
              "\n",
              "       [[0., 0., 0.],\n",
              "        [0., 0., 0.],\n",
              "        [0., 0., 0.],\n",
              "        ...,\n",
              "        [0., 0., 0.],\n",
              "        [0., 0., 0.],\n",
              "        [0., 0., 0.]],\n",
              "\n",
              "       ...,\n",
              "\n",
              "       [[0., 0., 0.],\n",
              "        [0., 0., 0.],\n",
              "        [0., 0., 0.],\n",
              "        ...,\n",
              "        [0., 0., 0.],\n",
              "        [0., 0., 0.],\n",
              "        [0., 0., 0.]],\n",
              "\n",
              "       [[0., 0., 0.],\n",
              "        [0., 0., 0.],\n",
              "        [0., 0., 0.],\n",
              "        ...,\n",
              "        [0., 0., 0.],\n",
              "        [0., 0., 0.],\n",
              "        [0., 0., 0.]],\n",
              "\n",
              "       [[0., 0., 0.],\n",
              "        [0., 0., 0.],\n",
              "        [0., 0., 0.],\n",
              "        ...,\n",
              "        [0., 0., 0.],\n",
              "        [0., 0., 0.],\n",
              "        [0., 0., 0.]]], dtype=float32)"
            ]
          },
          "execution_count": 61,
          "metadata": {},
          "output_type": "execute_result"
        }
      ],
      "source": [
        "x = image.img_to_array(img)\n",
        "x"
      ]
    },
    {
      "cell_type": "code",
      "execution_count": null,
      "id": "83273d14",
      "metadata": {
        "id": "83273d14",
        "outputId": "2ace567f-9e22-404e-e8c4-b3842c84403b"
      },
      "outputs": [
        {
          "data": {
            "text/plain": [
              "(64, 64, 3)"
            ]
          },
          "execution_count": 62,
          "metadata": {},
          "output_type": "execute_result"
        }
      ],
      "source": [
        "x.shape"
      ]
    },
    {
      "cell_type": "code",
      "execution_count": null,
      "id": "58ca05bb",
      "metadata": {
        "id": "58ca05bb",
        "outputId": "7cbd2119-dbf9-4509-c706-e155f510925f"
      },
      "outputs": [
        {
          "data": {
            "text/plain": [
              "(1, 64, 64, 3)"
            ]
          },
          "execution_count": 63,
          "metadata": {},
          "output_type": "execute_result"
        }
      ],
      "source": [
        "x=np.expand_dims(x,axis=0)\n",
        "x.shape"
      ]
    },
    {
      "cell_type": "code",
      "execution_count": null,
      "id": "30a9ee65",
      "metadata": {
        "id": "30a9ee65",
        "outputId": "cd62023a-9718-4da4-c4d1-4e183a3516eb"
      },
      "outputs": [
        {
          "name": "stdout",
          "output_type": "stream",
          "text": [
            "1/1 [==============================] - 0s 123ms/step\n"
          ]
        }
      ],
      "source": [
        "pred_prob = model.predict(x)"
      ]
    },
    {
      "cell_type": "code",
      "execution_count": null,
      "id": "8c8bc927",
      "metadata": {
        "id": "8c8bc927",
        "outputId": "78342501-efdb-4a98-8671-1a628ee16cb2"
      },
      "outputs": [
        {
          "data": {
            "text/plain": [
              "array([[9.9954236e-01, 7.8000909e-13, 7.1030300e-08, 7.4072335e-07,\n",
              "        3.7532591e-04, 2.8473270e-12, 1.7780074e-05, 6.3732426e-05,\n",
              "        7.7890165e-09]], dtype=float32)"
            ]
          },
          "execution_count": 65,
          "metadata": {},
          "output_type": "execute_result"
        }
      ],
      "source": [
        "pred_prob"
      ]
    },
    {
      "cell_type": "code",
      "execution_count": null,
      "id": "3e6a0116",
      "metadata": {
        "id": "3e6a0116"
      },
      "outputs": [],
      "source": [
        "class_name=[\"A\",\"B\",\"C\",\"D\",\"E\",\"F\",\"G\",\"H\",\"I\"]\n",
        "pred_id = pred_prob.argmax(axis=1)[0]"
      ]
    },
    {
      "cell_type": "code",
      "execution_count": null,
      "id": "b47c1153",
      "metadata": {
        "id": "b47c1153",
        "outputId": "7a21bfa9-51fa-4fd0-93fa-11e370b7d123"
      },
      "outputs": [
        {
          "data": {
            "text/plain": [
              "0"
            ]
          },
          "execution_count": 67,
          "metadata": {},
          "output_type": "execute_result"
        }
      ],
      "source": [
        "pred_id"
      ]
    },
    {
      "cell_type": "code",
      "execution_count": null,
      "id": "762540da",
      "metadata": {
        "id": "762540da",
        "outputId": "dab631c9-5214-4d40-b301-bd155d781d3f"
      },
      "outputs": [
        {
          "name": "stdout",
          "output_type": "stream",
          "text": [
            "the alphabet is   A\n"
          ]
        }
      ],
      "source": [
        "print(\"the alphabet is  \",str(class_name[pred_id]))"
      ]
    },
    {
      "cell_type": "code",
      "execution_count": null,
      "id": "372fb62d",
      "metadata": {
        "id": "372fb62d"
      },
      "outputs": [],
      "source": []
    }
  ],
  "metadata": {
    "kernelspec": {
      "display_name": "Python 3 (ipykernel)",
      "language": "python",
      "name": "python3"
    },
    "language_info": {
      "codemirror_mode": {
        "name": "ipython",
        "version": 3
      },
      "file_extension": ".py",
      "mimetype": "text/x-python",
      "name": "python",
      "nbconvert_exporter": "python",
      "pygments_lexer": "ipython3",
      "version": "3.9.12"
    },
    "colab": {
      "provenance": []
    }
  },
  "nbformat": 4,
  "nbformat_minor": 5
}