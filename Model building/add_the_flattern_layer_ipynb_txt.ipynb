{
  "cells": [
    {
      "cell_type": "markdown",
      "id": "f16edf3e",
      "metadata": {
        "id": "f16edf3e"
      },
      "source": [
        "\n",
        "# Real-Time Communication System Powered By AI For Specially Abled\n"
      ]
    },
    {
      "cell_type": "markdown",
      "id": "ef959492",
      "metadata": {
        "id": "ef959492"
      },
      "source": [
        "# TEAM ID - 2022TMID52086"
      ]
    },
    {
      "cell_type": "markdown",
      "id": "497df092",
      "metadata": {
        "id": "497df092"
      },
      "source": [
        "Image Preprocessing"
      ]
    },
    {
      "cell_type": "markdown",
      "id": "10787c6b",
      "metadata": {
        "id": "10787c6b"
      },
      "source": [
        "Import ImageDataGenerator Library And Configure It"
      ]
    },
    {
      "cell_type": "code",
      "execution_count": null,
      "id": "33ac33a4",
      "metadata": {
        "id": "33ac33a4"
      },
      "outputs": [],
      "source": [
        "from tensorflow.keras.preprocessing.image import ImageDataGenerator"
      ]
    },
    {
      "cell_type": "code",
      "execution_count": null,
      "id": "89cedbc3",
      "metadata": {
        "id": "89cedbc3"
      },
      "outputs": [],
      "source": [
        "train_datagen=ImageDataGenerator(rescale=1./255,horizontal_flip=True,vertical_flip=True,zoom_range=0.2)"
      ]
    },
    {
      "cell_type": "code",
      "execution_count": null,
      "id": "db2935ad",
      "metadata": {
        "id": "db2935ad"
      },
      "outputs": [],
      "source": [
        "test_datagen=ImageDataGenerator(rescale=1./255)"
      ]
    },
    {
      "cell_type": "markdown",
      "id": "76090c73",
      "metadata": {
        "id": "76090c73"
      },
      "source": [
        "Apply ImageDataGenerator Functionality To Train And Test Set"
      ]
    },
    {
      "cell_type": "code",
      "execution_count": null,
      "id": "4a5ee19c",
      "metadata": {
        "id": "4a5ee19c",
        "outputId": "23ac93b6-13d2-403f-bd1a-9bf3f2da8785"
      },
      "outputs": [
        {
          "name": "stdout",
          "output_type": "stream",
          "text": [
            "Found 15750 images belonging to 9 classes.\n"
          ]
        }
      ],
      "source": [
        "x_train=train_datagen.flow_from_directory(r\"C:\\Users\\rajes\\Desktop\\Dataset\\training_set\",target_size=(64,64),\n",
        "                                          class_mode=\"categorical\",batch_size=30)"
      ]
    },
    {
      "cell_type": "code",
      "execution_count": null,
      "id": "31cf8e79",
      "metadata": {
        "id": "31cf8e79",
        "outputId": "e80afbb3-df6f-4166-d35c-b74564dc0083"
      },
      "outputs": [
        {
          "name": "stdout",
          "output_type": "stream",
          "text": [
            "Found 2250 images belonging to 9 classes.\n"
          ]
        }
      ],
      "source": [
        "x_test=test_datagen.flow_from_directory(r\"C:\\Users\\rajes\\Desktop\\Dataset\\test_set\",target_size=(64,64),\n",
        "                                                            class_mode=\"categorical\",batch_size=30)"
      ]
    },
    {
      "cell_type": "markdown",
      "id": "2608ad7d",
      "metadata": {
        "id": "2608ad7d"
      },
      "source": [
        "Model  Building\n",
        "\n",
        "Import The Required Model Building Libraries"
      ]
    },
    {
      "cell_type": "code",
      "execution_count": null,
      "id": "592a2996",
      "metadata": {
        "id": "592a2996"
      },
      "outputs": [],
      "source": [
        "from keras.models import Sequential \n",
        "from keras.layers import Dense\n",
        "from keras.layers import Convolution2D\n",
        "from keras.layers import MaxPooling2D\n",
        "from keras.layers import Dropout\n",
        "from keras.layers import Flatten"
      ]
    },
    {
      "cell_type": "markdown",
      "id": "cadbbe09",
      "metadata": {
        "id": "cadbbe09"
      },
      "source": [
        "Initialize The Model"
      ]
    },
    {
      "cell_type": "code",
      "execution_count": null,
      "id": "92b3f8b6",
      "metadata": {
        "id": "92b3f8b6",
        "outputId": "5d6bb186-8bf6-4574-8eac-15dc407e5657"
      },
      "outputs": [
        {
          "name": "stdout",
          "output_type": "stream",
          "text": [
            "Model Initialized Successfully\n"
          ]
        }
      ],
      "source": [
        "model=Sequential()\n",
        "print(\"Model Initialized Successfully\")"
      ]
    },
    {
      "cell_type": "markdown",
      "id": "9ee7ceb8",
      "metadata": {
        "id": "9ee7ceb8"
      },
      "source": [
        "Add The Convolution Layer"
      ]
    },
    {
      "cell_type": "code",
      "execution_count": null,
      "id": "c0f10b49",
      "metadata": {
        "id": "c0f10b49"
      },
      "outputs": [],
      "source": [
        "model.add(Convolution2D(32,(3,3),activation=\"relu\",input_shape=(64,64,3)))\n",
        "#No of feature detectors, size of feature detector, image size, activation function"
      ]
    },
    {
      "cell_type": "markdown",
      "id": "6108eeca",
      "metadata": {
        "id": "6108eeca"
      },
      "source": [
        "Add The Pooling Layer"
      ]
    },
    {
      "cell_type": "code",
      "execution_count": null,
      "id": "ae17202a",
      "metadata": {
        "id": "ae17202a"
      },
      "outputs": [],
      "source": [
        "model.add(MaxPooling2D(pool_size=(2,2)))"
      ]
    },
    {
      "cell_type": "markdown",
      "id": "33f80373",
      "metadata": {
        "id": "33f80373"
      },
      "source": [
        "Add The Flatten Layer"
      ]
    },
    {
      "cell_type": "code",
      "execution_count": null,
      "id": "9fbd7e07",
      "metadata": {
        "id": "9fbd7e07"
      },
      "outputs": [],
      "source": [
        "model.add(Flatten())"
      ]
    },
    {
      "cell_type": "code",
      "execution_count": null,
      "id": "0dbe5a1a",
      "metadata": {
        "id": "0dbe5a1a"
      },
      "outputs": [],
      "source": []
    }
  ],
  "metadata": {
    "kernelspec": {
      "display_name": "Python 3 (ipykernel)",
      "language": "python",
      "name": "python3"
    },
    "language_info": {
      "codemirror_mode": {
        "name": "ipython",
        "version": 3
      },
      "file_extension": ".py",
      "mimetype": "text/x-python",
      "name": "python",
      "nbconvert_exporter": "python",
      "pygments_lexer": "ipython3",
      "version": "3.9.12"
    },
    "colab": {
      "provenance": []
    }
  },
  "nbformat": 4,
  "nbformat_minor": 5
}