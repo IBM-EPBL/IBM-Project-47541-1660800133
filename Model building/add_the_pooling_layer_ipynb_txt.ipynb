{
  "cells": [
    {
      "cell_type": "markdown",
      "id": "f16edf3e",
      "metadata": {
        "id": "f16edf3e"
      },
      "source": [
        "\n",
        "# Real-Time Communication System Powered By AI For Specially Abled\n"
      ]
    },
    {
      "cell_type": "markdown",
      "id": "ef959492",
      "metadata": {
        "id": "ef959492"
      },
      "source": [
        "# TEAM ID - 2022TMID52086"
      ]
    },
    {
      "cell_type": "markdown",
      "id": "497df092",
      "metadata": {
        "id": "497df092"
      },
      "source": [
        "Image Preprocessing"
      ]
    },
    {
      "cell_type": "markdown",
      "id": "10787c6b",
      "metadata": {
        "id": "10787c6b"
      },
      "source": [
        "Import ImageDataGenerator Library And Configure It"
      ]
    },
    {
      "cell_type": "code",
      "execution_count": null,
      "id": "33ac33a4",
      "metadata": {
        "id": "33ac33a4"
      },
      "outputs": [],
      "source": [
        "from tensorflow.keras.preprocessing.image import ImageDataGenerator"
      ]
    },
    {
      "cell_type": "code",
      "execution_count": null,
      "id": "89cedbc3",
      "metadata": {
        "id": "89cedbc3"
      },
      "outputs": [],
      "source": [
        "train_datagen=ImageDataGenerator(rescale=1./255,horizontal_flip=True,vertical_flip=True,zoom_range=0.2)"
      ]
    },
    {
      "cell_type": "code",
      "execution_count": null,
      "id": "db2935ad",
      "metadata": {
        "id": "db2935ad"
      },
      "outputs": [],
      "source": [
        "test_datagen=ImageDataGenerator(rescale=1./255)"
      ]
    },
    {
      "cell_type": "markdown",
      "id": "76090c73",
      "metadata": {
        "id": "76090c73"
      },
      "source": [
        "Apply ImageDataGenerator Functionality To Train And Test Set"
      ]
    },
    {
      "cell_type": "code",
      "execution_count": null,
      "id": "882e26ea",
      "metadata": {
        "id": "882e26ea",
        "outputId": "20139dbc-6993-4dc8-8972-51622ebf6c23"
      },
      "outputs": [
        {
          "name": "stdout",
          "output_type": "stream",
          "text": [
            "Found 15750 images belonging to 9 classes.\n"
          ]
        }
      ],
      "source": [
        "x_train=train_datagen.flow_from_directory(r\"C:\\Users\\rajes\\Desktop\\Dataset\\training_set\",target_size=(64,64),\n",
        "                                          class_mode=\"categorical\",batch_size=30)"
      ]
    },
    {
      "cell_type": "code",
      "execution_count": null,
      "id": "daf7fa7e",
      "metadata": {
        "id": "daf7fa7e",
        "outputId": "45f00237-1e18-45b7-fc58-fb2005ed6479"
      },
      "outputs": [
        {
          "name": "stdout",
          "output_type": "stream",
          "text": [
            "Found 2250 images belonging to 9 classes.\n"
          ]
        }
      ],
      "source": [
        "x_test=test_datagen.flow_from_directory(r\"C:\\Users\\rajes\\Desktop\\Dataset\\test_set\",target_size=(64,64),\n",
        "                                                            class_mode=\"categorical\",batch_size=30)"
      ]
    },
    {
      "cell_type": "markdown",
      "id": "0d31911c",
      "metadata": {
        "id": "0d31911c"
      },
      "source": [
        "Model  Building\n",
        "\n",
        "Import The Required Model Building Libraries"
      ]
    },
    {
      "cell_type": "code",
      "execution_count": null,
      "id": "9d509278",
      "metadata": {
        "id": "9d509278"
      },
      "outputs": [],
      "source": [
        "from keras.models import Sequential \n",
        "from keras.layers import Dense\n",
        "from keras.layers import Convolution2D\n",
        "from keras.layers import MaxPooling2D\n",
        "from keras.layers import Dropout\n",
        "from keras.layers import Flatten"
      ]
    },
    {
      "cell_type": "markdown",
      "id": "7f19be1f",
      "metadata": {
        "id": "7f19be1f"
      },
      "source": [
        "Initialize The Model"
      ]
    },
    {
      "cell_type": "code",
      "execution_count": null,
      "id": "6c66e2e6",
      "metadata": {
        "id": "6c66e2e6",
        "outputId": "3d4afad4-9d7d-40b2-e3d1-b161e02d28a0"
      },
      "outputs": [
        {
          "name": "stdout",
          "output_type": "stream",
          "text": [
            "Model Initialized Successfully\n"
          ]
        }
      ],
      "source": [
        "model=Sequential()\n",
        "print(\"Model Initialized Successfully\")"
      ]
    },
    {
      "cell_type": "markdown",
      "id": "59f368bd",
      "metadata": {
        "id": "59f368bd"
      },
      "source": [
        "Add The Convolution Layer"
      ]
    },
    {
      "cell_type": "code",
      "execution_count": null,
      "id": "c5261dd2",
      "metadata": {
        "id": "c5261dd2"
      },
      "outputs": [],
      "source": [
        "model.add(Convolution2D(32,(3,3),activation=\"relu\",input_shape=(64,64,3)))\n",
        "#No of feature detectors, size of feature detector, image size, activation function"
      ]
    },
    {
      "cell_type": "markdown",
      "id": "ca46d5e2",
      "metadata": {
        "id": "ca46d5e2"
      },
      "source": [
        "Add The Pooling Layer"
      ]
    },
    {
      "cell_type": "code",
      "execution_count": null,
      "id": "7b7fbbc9",
      "metadata": {
        "id": "7b7fbbc9"
      },
      "outputs": [],
      "source": [
        "model.add(MaxPooling2D(pool_size=(2,2)))"
      ]
    }
  ],
  "metadata": {
    "kernelspec": {
      "display_name": "Python 3 (ipykernel)",
      "language": "python",
      "name": "python3"
    },
    "language_info": {
      "codemirror_mode": {
        "name": "ipython",
        "version": 3
      },
      "file_extension": ".py",
      "mimetype": "text/x-python",
      "name": "python",
      "nbconvert_exporter": "python",
      "pygments_lexer": "ipython3",
      "version": "3.9.12"
    },
    "colab": {
      "provenance": []
    }
  },
  "nbformat": 4,
  "nbformat_minor": 5
}